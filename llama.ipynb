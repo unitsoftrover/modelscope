{
 "cells": [
  {
   "cell_type": "code",
   "execution_count": 2,
   "id": "ffc5fcdb-1948-4ab8-8dc5-a739b6bf0eb4",
   "metadata": {
    "ExecutionIndicator": {
     "show": false
    },
    "execution": {
     "iopub.execute_input": "2023-10-10T14:16:54.952675Z",
     "iopub.status.busy": "2023-10-10T14:16:54.952372Z",
     "iopub.status.idle": "2023-10-10T14:19:12.594510Z",
     "shell.execute_reply": "2023-10-10T14:19:12.593944Z",
     "shell.execute_reply.started": "2023-10-10T14:16:54.952657Z"
    },
    "tags": []
   },
   "outputs": [],
   "source": [
    "import torch\n",
    "from modelscope import Model, snapshot_download\n",
    "from modelscope.models.nlp.llama2 import Llama2Tokenizer\n",
    "\n",
    "\n",
    "model_dir = snapshot_download(\"modelscope/Llama-2-7b-chat-ms\", revision='v1.0.2', \n",
    "                              ignore_file_pattern=[r'.+\\.bin$'])"
   ]
  },
  {
   "cell_type": "code",
   "execution_count": 7,
   "id": "38d26534-87cc-4149-b339-0636d17520a2",
   "metadata": {
    "ExecutionIndicator": {
     "show": true
    },
    "execution": {
     "iopub.execute_input": "2023-10-10T14:22:17.345203Z",
     "iopub.status.busy": "2023-10-10T14:22:17.344828Z",
     "iopub.status.idle": "2023-10-10T14:22:17.388433Z",
     "shell.execute_reply": "2023-10-10T14:22:17.387869Z",
     "shell.execute_reply.started": "2023-10-10T14:22:17.345181Z"
    },
    "tags": []
   },
   "outputs": [],
   "source": [
    "tokenizer = Llama2Tokenizer.from_pretrained(model_dir)\n"
   ]
  },
  {
   "cell_type": "code",
   "execution_count": 8,
   "id": "cdc1e7d6-5911-48df-9ef5-b82c50715454",
   "metadata": {
    "ExecutionIndicator": {
     "show": true
    },
    "execution": {
     "iopub.execute_input": "2023-10-10T14:22:35.122924Z",
     "iopub.status.busy": "2023-10-10T14:22:35.122570Z",
     "iopub.status.idle": "2023-10-10T14:22:36.686128Z",
     "shell.execute_reply": "2023-10-10T14:22:36.685566Z",
     "shell.execute_reply.started": "2023-10-10T14:22:35.122901Z"
    },
    "tags": []
   },
   "outputs": [],
   "source": [
    "model = Model.from_pretrained(\n",
    "    model_dir,\n",
    "    torch_dtype=torch.float16,\n",
    "    device_map='auto')"
   ]
  },
  {
   "cell_type": "code",
   "execution_count": 10,
   "id": "01e90da4-c91b-47ce-b1ea-8579a2937457",
   "metadata": {
    "ExecutionIndicator": {
     "show": true
    },
    "execution": {
     "iopub.execute_input": "2023-10-10T14:24:28.372719Z",
     "iopub.status.busy": "2023-10-10T14:24:28.372394Z",
     "iopub.status.idle": "2023-10-10T14:25:16.398608Z",
     "shell.execute_reply": "2023-10-10T14:25:16.397676Z",
     "shell.execute_reply.started": "2023-10-10T14:24:28.372702Z"
    },
    "tags": []
   },
   "outputs": [],
   "source": [
    "system = 'you are a helpful assistant!'\n",
    "inputs = {'text': 'Where is the capital of Zhejiang?', 'system': system, 'max_length': 512}\n",
    "output = model.chat(inputs, tokenizer)"
   ]
  },
  {
   "cell_type": "code",
   "execution_count": 11,
   "id": "e877c7d4-a8c4-4c1e-bb27-76081981d265",
   "metadata": {
    "ExecutionIndicator": {
     "show": true
    },
    "execution": {
     "iopub.execute_input": "2023-10-10T14:25:22.960648Z",
     "iopub.status.busy": "2023-10-10T14:25:22.960323Z",
     "iopub.status.idle": "2023-10-10T14:25:22.964959Z",
     "shell.execute_reply": "2023-10-10T14:25:22.964257Z",
     "shell.execute_reply.started": "2023-10-10T14:25:22.960630Z"
    },
    "tags": []
   },
   "outputs": [
    {
     "name": "stdout",
     "output_type": "stream",
     "text": [
      "Thank you for asking! The capital of Zhejiang is Hangzhou.\n"
     ]
    }
   ],
   "source": [
    "print(output['response'])\n",
    "\n",
    "inputs = {'text': 'What are the interesting places there?', \n",
    "          'system': system, \n",
    "          'history': output['history'],\n",
    "          'max_length': 512}"
   ]
  },
  {
   "cell_type": "code",
   "execution_count": 12,
   "id": "9c0097e5-5b28-4f26-ba6a-cf2fb08fd096",
   "metadata": {
    "ExecutionIndicator": {
     "show": true
    },
    "execution": {
     "iopub.execute_input": "2023-10-10T14:25:58.494265Z",
     "iopub.status.busy": "2023-10-10T14:25:58.493955Z",
     "iopub.status.idle": "2023-10-10T14:33:52.716058Z",
     "shell.execute_reply": "2023-10-10T14:33:52.715354Z",
     "shell.execute_reply.started": "2023-10-10T14:25:58.494249Z"
    },
    "tags": []
   },
   "outputs": [
    {
     "name": "stdout",
     "output_type": "stream",
     "text": [
      "Hangzhou, the capital of Zhejiang Province, is a city with a rich history and culture, known for its beautiful scenery and interesting places to visit. Here are some of the top attractions in Hangzhou:\n",
      "\n",
      "1. West Lake (Xi Hu): A must-visit attraction in Hangzhou, West Lake is a beautiful and peaceful natural lake with numerous temples, gardens, and scenic spots. Visitors can take a leisurely boat ride or stroll along the lake's banks to enjoy the picturesque views.\n",
      "2. Lingyin Temple: One of China's most famous Buddhist temples, Lingyin Temple is a place of great cultural and religious significance. The temple complex is home to numerous ancient Buddhist grottos, statues, and other artifacts, as well as a large library and a peaceful garden.\n",
      "3. Longjing Tea Plantations: Hangzhou is famous for its green tea, particularly the Longjing tea, which is grown in the surrounding hills. Visitors can learn about the tea-making process and enjoy the beautiful scenery of the tea plantations.\n",
      "4. Xixi National Wetland Park: A unique and fascinating natural attraction, Xixi National Wetland Park is a protected area of wetlands, forests, and waterways. Visitors can take a boat ride through the park's canals and enjoy the diverse wildlife and vegetation.\n",
      "5. Hefang Street: A popular shopping and dining destination, Hefang Street is a bustling area filled with local snacks, souvenirs, and traditional Chinese medicine shops. Visitors can try the local street food, buy souvenirs, and experience the local culture.\n",
      "6. China National Tea Museum: For those interested in tea culture, the China National Tea Museum is a must-visit attraction. The museum showcases the history and culture of tea in China, with exhibits on tea production, tea cer\n"
     ]
    }
   ],
   "source": [
    "output = model.chat(inputs, tokenizer)\n",
    "print(output['response'])"
   ]
  },
  {
   "cell_type": "code",
   "execution_count": null,
   "id": "33782871-0484-4041-93e8-28e1822dae17",
   "metadata": {},
   "outputs": [],
   "source": []
  }
 ],
 "metadata": {
  "kernelspec": {
   "display_name": "Python 3 (ipykernel)",
   "language": "python",
   "name": "python3"
  },
  "language_info": {
   "codemirror_mode": {
    "name": "ipython",
    "version": 3
   },
   "file_extension": ".py",
   "mimetype": "text/x-python",
   "name": "python",
   "nbconvert_exporter": "python",
   "pygments_lexer": "ipython3",
   "version": "3.8.16"
  }
 },
 "nbformat": 4,
 "nbformat_minor": 5
}
